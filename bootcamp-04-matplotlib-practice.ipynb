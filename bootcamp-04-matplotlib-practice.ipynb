{
 "cells": [
  {
   "cell_type": "code",
   "execution_count": null,
   "metadata": {},
   "outputs": [],
   "source": [
    "import matplotlib.pyplot as plt\n",
    "# Import pandas with alias pd\n",
    "import pandas as pd"
   ]
  },
  {
   "cell_type": "markdown",
   "metadata": {},
   "source": [
    "## Create dataframe with average monthly precip and 2013 monthly precip\n",
    "\n",
    "Data source <a href=\"https://psl.noaa.gov/boulder/Boulder.mm.precip.html#Latest\" target=\"_blank\">NOAA Physical Sciences Laboratory</a>."
   ]
  },
  {
   "cell_type": "code",
   "execution_count": null,
   "metadata": {},
   "outputs": [],
   "source": [
    "# Average monthly precip for Boulder, CO\n",
    "monthly_precip = pd.DataFrame(columns=[\"month\", \"ave_precip_in\",\"precip_2013_in\"],\n",
    "                                  data=[\n",
    "                                       [\"Jan\", 0.70, 0.27],  [\"Feb\", 0.75, 1.13],\n",
    "                                       [\"Mar\", 1.85, 1.72],  [\"Apr\", 2.93, 4.14],\n",
    "                                       [\"May\", 3.05, 2.66],  [\"June\", 2.02, 0.61],\n",
    "                                       [\"July\", 1.93, 1.03], [\"Aug\", 1.62, 1.4],\n",
    "                                       [\"Sept\", 1.84, 18.6], [\"Oct\", 1.31, 2.24],\n",
    "                                       [\"Nov\", 1.39, 0.29],  [\"Dec\", 0.84, 0.5]\n",
    "])\n",
    "\n",
    "# Notice the nicely formatted output without use of print\n",
    "monthly_precip"
   ]
  },
  {
   "cell_type": "markdown",
   "metadata": {},
   "source": [
    "## Modify the Line Plot below:"
   ]
  },
  {
   "cell_type": "code",
   "execution_count": null,
   "metadata": {},
   "outputs": [],
   "source": [
    "f, ax = plt.subplots()\n",
    "ax.plot(monthly_precip.month,\n",
    "        monthly_precip.ave_precip_in)\n",
    "\n",
    "plt.show()"
   ]
  },
  {
   "cell_type": "markdown",
   "metadata": {},
   "source": [
    "* Make your figure size: width = 10, height = 6\n",
    "* Add a multi-line title to your plot\n",
    "* Label your x and y axes\n",
    "* Add 2013 precipitation to your plot\n",
    "* Set the marker to 'o' highlight individual precipitation values for average precip"
   ]
  },
  {
   "cell_type": "code",
   "execution_count": null,
   "metadata": {},
   "outputs": [],
   "source": []
  },
  {
   "cell_type": "markdown",
   "metadata": {},
   "source": [
    "## Create a bar chart\n",
    "\n",
    "* Create a bar chart for 2013 monthly precipitation\n",
    "* Add a plot title\n",
    "* Label your x and y axes\n",
    "* Make the color of your bar chart magenta\n",
    "* Set the edge color to dark blue"
   ]
  },
  {
   "cell_type": "code",
   "execution_count": null,
   "metadata": {},
   "outputs": [],
   "source": []
  },
  {
   "cell_type": "markdown",
   "metadata": {},
   "source": [
    "## Create a Scatter Plot\n",
    "\n",
    "* Make a scatter plot of monthly precipitation for 2013\n",
    "* Rotate labels 45 degress on x axis\n",
    "* Change the marker to square pixels\n",
    "* Set the colormap to 'PuBuGn'\n",
    "* Add gray edge color so that light pixels are more visible"
   ]
  },
  {
   "cell_type": "code",
   "execution_count": null,
   "metadata": {},
   "outputs": [],
   "source": []
  },
  {
   "cell_type": "markdown",
   "metadata": {},
   "source": [
    "## Create figure with 2 bar charts\n",
    "\n",
    "* Add a title to your figure and set the *fontsize* to 16\n",
    "* Create a figure with two bar charts stacked on top of each other\n",
    "* Change your figure size to width 12 and height 12\n",
    "* Display average monthly precipitation in the top bar chart in *darkgoldenrod*\n",
    "* Display monthly precipitation values for 2013 in the lower bar chart in *midnightblue* and set the transparency to 0.7\n",
    "* Add titles and axis labels to both plots\n",
    "* Save your plot\n"
   ]
  },
  {
   "cell_type": "code",
   "execution_count": null,
   "metadata": {},
   "outputs": [],
   "source": []
  }
 ],
 "metadata": {
  "kernelspec": {
   "display_name": "Python 3",
   "language": "python",
   "name": "python3"
  },
  "language_info": {
   "codemirror_mode": {
    "name": "ipython",
    "version": 3
   },
   "file_extension": ".py",
   "mimetype": "text/x-python",
   "name": "python",
   "nbconvert_exporter": "python",
   "pygments_lexer": "ipython3",
   "version": "3.8.5"
  }
 },
 "nbformat": 4,
 "nbformat_minor": 4
}
